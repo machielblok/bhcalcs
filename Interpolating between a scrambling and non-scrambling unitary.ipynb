{
 "cells": [
  {
   "cell_type": "code",
   "execution_count": 1,
   "metadata": {},
   "outputs": [],
   "source": [
    "import numpy as np\n",
    "import matplotlib.pyplot as plt\n",
    "%matplotlib inline\n",
    "\n",
    "import sys\n",
    "sys.path.append('/Users/qnl/Documents/Vinay/QNL')\n",
    "\n",
    "from qnl_ctrl.qnl_analysis import SimTools as ST\n",
    "from qnl_ctrl.qnl_analysis.SimTools import bit_to_trit, rot_x, rot_y, trit_z\n",
    "\n",
    "from importlib import reload\n",
    "from functools import reduce"
   ]
  },
  {
   "cell_type": "code",
   "execution_count": 2,
   "metadata": {},
   "outputs": [],
   "source": [
    "qutrit_mapping = {'I': np.eye(3, dtype='complex'),                                                                                                                               \n",
    "                  'GPrep': np.eye(3, dtype='complex'),\n",
    "                  'X90': bit_to_trit(rot_x(np.pi/2.)),\n",
    "                  'X-90': bit_to_trit(rot_x(-np.pi/2.)),\n",
    "                  'Y90': bit_to_trit(rot_y(np.pi/2.)),\n",
    "                  'Y-90': bit_to_trit(rot_y(-np.pi/2.)),\n",
    "                  'X270': bit_to_trit(rot_x(-np.pi/2.)),\n",
    "                  'Y270': bit_to_trit(rot_y(-np.pi/2.)),\n",
    "                  'X180': bit_to_trit(rot_x(np.pi)),\n",
    "                  'Y180': bit_to_trit(rot_y(np.pi)),\n",
    "                  'EFX90': bit_to_trit(rot_x(np.pi/2.), 1),\n",
    "                  'EFX-90': bit_to_trit(rot_x(-np.pi/2.), 1),\n",
    "                  'EFY90': bit_to_trit(rot_y(np.pi/2.), 1),\n",
    "                  'EFY-90': bit_to_trit(rot_y(-np.pi/2.), 1),\n",
    "                  'EFX270': bit_to_trit(rot_x(-np.pi/2.), 1),\n",
    "                  'EFY270': bit_to_trit(rot_y(-np.pi/2.), 1),\n",
    "                  'EFX180': bit_to_trit(rot_x(np.pi), 1),\n",
    "                  'EFY180': bit_to_trit(rot_y(np.pi), 1),\n",
    "                  'Delay': np.eye(3, dtype='complex'),\n",
    "                  'Hadamard': np.sqrt(1./3)*np.array([[1,1,1],\n",
    "                                        [1,np.exp(1j*2*np.pi/3),np.exp(-1j*2*np.pi/3)],\n",
    "                                        [1,np.exp(-1j*2*np.pi/3),np.exp(1j*2*np.pi/3)]]),\n",
    "                  'R': np.diag([1, np.exp(1j*2*np.pi/3),np.exp(1j*2*np.pi/3)])                   }"
   ]
  },
  {
   "cell_type": "code",
   "execution_count": 3,
   "metadata": {},
   "outputs": [],
   "source": [
    "def isfloat(value):                                                                                                                                                              \n",
    "    try:\n",
    "        float(value)\n",
    "        return True\n",
    "    except ValueError:\n",
    "        return False"
   ]
  },
  {
   "cell_type": "code",
   "execution_count": 4,
   "metadata": {},
   "outputs": [],
   "source": [
    "def Hadamard_to_identity(alpha):\n",
    "    \"\"\" returns a single-qutrit unitary matrix which\n",
    "    smoothly interpolates between the Hadamard gate and the identity gate\n",
    "    When alpha is unity, it is the Hadamard\n",
    "    When alpha is zero, it is the identity\n",
    "    \"\"\"\n",
    "    \n",
    "    Hadamard_pulse_sequence = [['EFY-90'],\n",
    "    ['X90'],\n",
    "    ['Z{:.5f}'.format(-109.471*alpha)],\n",
    "    ['EFZ{:.5f}'.format(54.7355*alpha)],\n",
    "    ['X-90'],\n",
    "    ['Z{:.5f}'.format(180*alpha)],\n",
    "    ['EFZ{:.5f}'.format(-90*alpha)],\n",
    "    ['EFY90']]\n",
    "    \n",
    "    return resulting_unitary(Hadamard_pulse_sequence)\n",
    "\n",
    "def HadamardStar_to_identity(alpha):\n",
    "    \"\"\" returns a single-qutrit unitary matrix which\n",
    "    smoothly interpolates between the Hadamard gate and the identity gate\n",
    "    When alpha is unity, it is the Hadamard\n",
    "    When alpha is zero, it is the identity\n",
    "    \"\"\"\n",
    "    \n",
    "    Hadamard_pulse_sequence = [['EFY-90'],\n",
    "    ['X-90'],\n",
    "    ['Z{:.5f}'.format(109.471*alpha)],\n",
    "    ['EFZ{:.5f}'.format(-54.7355*alpha)],\n",
    "    ['X90'],\n",
    "    ['Z{:.5f}'.format(-180*alpha)],\n",
    "    ['EFZ{:.5f}'.format(90*alpha)],\n",
    "    ['EFY90']]\n",
    "    \n",
    "    return resulting_unitary(Hadamard_pulse_sequence)\n",
    "\n",
    "def Scrambler_to_identity(alpha):\n",
    "    \n",
    "    alpha_Had = Hadamard_to_identity(alpha)\n",
    "    alpha_Had_dag = np.conj(alpha_Had).T\n",
    "    \n",
    "    alpha_Had_2q = np.kron(alpha_Had, alpha_Had)\n",
    "    alpha_Had_dag_2q = np.kron(alpha_Had_dag, alpha_Had_dag)\n",
    "\n",
    "    gates = [alpha_Had_dag_2q, ST.qt_cmin_p1, alpha_Had_2q, ST.qt_csum_p1]\n",
    "    \n",
    "    return reduce(np.dot, gates)\n",
    "\n",
    "def resulting_unitary(pulse_sequence):\n",
    "    # starting from the initial state, calculates the unitary after the pulse_sequence is applied                                                                            \n",
    "    # here time flows from left to right, in that the first pulse in the pulse_string is the first pulse applied.\n",
    "    single_qutrit_unitary = np.eye(3)\n",
    "    for x in pulse_sequence:\n",
    "        pulse_string = x[0]\n",
    "        if pulse_string in list(qutrit_mapping.keys()):\n",
    "            single_qutrit_unitary = np.dot(qutrit_mapping[pulse_string], single_qutrit_unitary)\n",
    "        else:\n",
    "            if pulse_string[0] == 'Z':\n",
    "                phase = np.pi*float(pulse_string[1:])/180.\n",
    "                single_qutrit_unitary = np.dot(trit_z(phase,-1)[0], single_qutrit_unitary)\n",
    "\n",
    "            elif pulse_string[0:3] == 'EFZ':\n",
    "                phase = np.pi*float(pulse_string[3:])/180.\n",
    "                single_qutrit_unitary = np.dot(trit_z(phase,1)[0], single_qutrit_unitary)\n",
    "    return single_qutrit_unitary\n"
   ]
  },
  {
   "cell_type": "code",
   "execution_count": 7,
   "metadata": {},
   "outputs": [],
   "source": [
    "alpha_range = np.linspace(0,1,50)\n",
    "unitaries = [Scrambler_to_identity(alpha) for alpha in alpha_range]\n",
    "OTOCs = np.array([np.real(ST.OTOC(Scrambler_to_identity(alpha), Qutrit_ops)) for alpha in alpha_range])"
   ]
  },
  {
   "cell_type": "code",
   "execution_count": 6,
   "metadata": {},
   "outputs": [],
   "source": [
    "omega = np.exp(2*np.pi*1j/3)\n",
    "\n",
    "X = np.matrix([[0,0,1],[1,0,0],[0,1,0]])\n",
    "Z = np.matrix(np.diag([1, omega, omega*omega]))\n",
    "Y = X*Z\n",
    "V = X*Z*Z\n",
    "\n",
    "Qutrit_ops = [\n",
    "    np.matrix(np.eye(3), dtype = 'complex'),\n",
    "    Z, \n",
    "    X, \n",
    "    Y, \n",
    "    V, \n",
    "    Z*Z,\n",
    "    X*X,\n",
    "    Y*Y,\n",
    "    V*V,\n",
    "]"
   ]
  },
  {
   "cell_type": "code",
   "execution_count": 11,
   "metadata": {},
   "outputs": [
    {
     "data": {
      "text/plain": [
       "matrix([[ 1.+0.j, -0.+0.j, -0.+0.j,  0.+0.j,  0.-0.j,  0.+0.j,  0.-0.j,\n",
       "          0.+0.j,  0.-0.j],\n",
       "        [-0.-0.j,  0.+0.j,  0.+0.j,  0.-0.j, -0.+0.j,  0.-0.j, -0.-0.j,\n",
       "          0.+0.j,  1.-0.j],\n",
       "        [-0.-0.j,  0.-0.j,  0.-0.j, -0.-0.j,  1.-0.j,  0.+0.j,  0.-0.j,\n",
       "          0.+0.j, -0.+0.j],\n",
       "        [ 0.-0.j,  0.-0.j,  0.+0.j, -0.+0.j, -0.+0.j,  1.+0.j,  0.-0.j,\n",
       "          0.+0.j, -0.+0.j],\n",
       "        [ 0.+0.j,  1.+0.j, -0.-0.j, -0.+0.j,  0.+0.j, -0.-0.j, -0.+0.j,\n",
       "         -0.+0.j, -0.+0.j],\n",
       "        [ 0.+0.j, -0.+0.j,  0.+0.j,  0.+0.j, -0.-0.j, -0.-0.j,  1.-0.j,\n",
       "          0.+0.j, -0.-0.j],\n",
       "        [ 0.-0.j,  0.-0.j,  0.-0.j,  0.-0.j, -0.+0.j,  0.+0.j, -0.+0.j,\n",
       "          1.+0.j, -0.+0.j],\n",
       "        [ 0.-0.j,  0.+0.j, -0.+0.j,  1.+0.j, -0.-0.j,  0.+0.j,  0.+0.j,\n",
       "         -0.-0.j, -0.-0.j],\n",
       "        [ 0.+0.j, -0.-0.j,  1.+0.j, -0.+0.j, -0.-0.j, -0.-0.j, -0.+0.j,\n",
       "         -0.-0.j,  0.-0.j]])"
      ]
     },
     "execution_count": 11,
     "metadata": {},
     "output_type": "execute_result"
    }
   ],
   "source": [
    "np.round(unitaries[-1])"
   ]
  },
  {
   "cell_type": "code",
   "execution_count": 9,
   "metadata": {},
   "outputs": [
    {
     "data": {
      "text/plain": [
       "Text(0,0.5,'OTOC')"
      ]
     },
     "execution_count": 9,
     "metadata": {},
     "output_type": "execute_result"
    },
    {
     "data": {
      "image/png": "[encoded data removed]",
      "text/plain": [
       "<Figure size 432x288 with 1 Axes>"
      ]
     },
     "metadata": {},
     "output_type": "display_data"
    }
   ],
   "source": [
    "plt.plot(alpha_range, OTOCs)\n",
    "plt.ylim(0,1.1)\n",
    "plt.xlabel('Alpha value')\n",
    "plt.ylabel('OTOC')"
   ]
  }
 ],
 "metadata": {
  "kernelspec": {
   "display_name": "Python 3",
   "language": "python",
   "name": "python3"
  },
  "language_info": {
   "codemirror_mode": {
    "name": "ipython",
    "version": 3
   },
   "file_extension": ".py",
   "mimetype": "text/x-python",
   "name": "python",
   "nbconvert_exporter": "python",
   "pygments_lexer": "ipython3",
   "version": "3.6.4"
  }
 },
 "nbformat": 4,
 "nbformat_minor": 2
}
